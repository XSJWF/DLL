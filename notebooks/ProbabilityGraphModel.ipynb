{
 "cells": [
  {
   "cell_type": "code",
   "id": "initial_id",
   "metadata": {
    "collapsed": true,
    "ExecuteTime": {
     "end_time": "2025-08-06T08:21:34.763518Z",
     "start_time": "2025-08-06T08:21:34.748251Z"
    }
   },
   "source": [
    "\"\"\"隐马尔可夫模型观测序列生成\"\"\"\n",
    "import random\n",
    "\n",
    "\"\"\"定义模型参数\"\"\"\n",
    "states = [\"Rainy\", \"Sunny\"]  # 隐藏状态\n",
    "observations = [\"Walk\", \"Shop\", \"Clean\"]  # 观测状态\n",
    "\n",
    "\"\"\"初始化概率分布\"\"\"\n",
    "start_prob = {\"Rainy\": 0.6, \"Sunny\": 0.4}  # 初始状态概率π\n",
    "\n",
    "\"\"\"状态转移矩阵A\"\"\"\n",
    "trans_mat = {\n",
    "    \"Rainy\": {\"Rainy\": 0.7, \"Sunny\": 0.3},\n",
    "    \"Sunny\": {\"Rainy\": 0.4, \"Sunny\": 0.6}\n",
    "}\n",
    "\n",
    "\"\"\"观测概率矩阵B\"\"\"\n",
    "emit_prob = {\n",
    "    \"Rainy\": {\"Walk\": 0.1, \"Shop\": 0.4, \"Clean\": 0.5},\n",
    "    \"Sunny\": {\"Walk\": 0.6, \"Shop\": 0.3, \"Clean\": 0.1}\n",
    "}\n",
    "\n",
    "\"\"\"根据概率分布随机选择状态/观测值\"\"\"\n",
    "def sample_from(prob_dict):\n",
    "    rand = random.random()  # 生成 [0, 1) 的随机数\n",
    "    cumulative_prob = 0\n",
    "    for key, prob in prob_dict.items():\n",
    "        cumulative_prob += prob\n",
    "        if rand < cumulative_prob:\n",
    "            return key\n",
    "    return list(prob_dict.keys())[-1]  # 防止浮点误差\n",
    "\n",
    "\"\"\"生成序列\"\"\"\n",
    "def generate_sequence(length):\n",
    "    hidden_sequence = []\n",
    "    obs_sequence = []\n",
    "    \n",
    "    # 初始状态\n",
    "    current_state = sample_from(start_prob)\n",
    "    # print(current_state)\n",
    "    hidden_sequence.append(current_state)\n",
    "    # print(hidden_sequence)\n",
    "    \n",
    "    # 生成后续状态和观测\n",
    "    for _ in range(length - 1):\n",
    "        # 生成观测值\n",
    "        obs = sample_from(emit_prob[current_state])\n",
    "        # print(obs)\n",
    "        obs_sequence.append(obs)\n",
    "        \n",
    "        # 转移到下一个状态\n",
    "        current_state = sample_from(trans_mat[current_state])\n",
    "        hidden_sequence.append(current_state)\n",
    "    \n",
    "    return hidden_sequence, obs_sequence\n",
    "\n",
    "\"\"\"生成并输出序列\"\"\"\n",
    "hidden_seq, obs_seq = generate_sequence(5)\n",
    "print(\"状态序列:\", hidden_seq)\n",
    "print(\"观测序列:\", obs_seq)"
   ],
   "outputs": [
    {
     "name": "stdout",
     "output_type": "stream",
     "text": [
      "状态序列: ['Rainy', 'Sunny', 'Rainy', 'Sunny', 'Rainy']\n",
      "观测序列: ['Walk', 'Walk', 'Clean', 'Walk']\n"
     ]
    }
   ],
   "execution_count": 1
  },
  {
   "metadata": {
    "ExecuteTime": {
     "end_time": "2025-08-09T02:49:13.115267Z",
     "start_time": "2025-08-09T02:49:13.090847Z"
    }
   },
   "cell_type": "code",
   "source": [
    "import jieba\n",
    "import jieba.analyse\n",
    "from sklearn.feature_extraction.text import CountVectorizer\n",
    "from sklearn.decomposition import LatentDirichletAllocation\n",
    "\n",
    "documents = [\n",
    "    \"人工智能是未来科技发展的核心方向之一。\",\n",
    "    \"深度学习在计算机视觉和自然语言处理中应用广泛。\",\n",
    "    \"气候变化对全球经济和社会结构产生深远影响。\",\n",
    "    \"可再生能源如太阳能和风能正在取代传统能源。\",\n",
    "    \"区块链技术为金融行业带来了去中心化的解决方案。\"\n",
    "]\n",
    "\n",
    "# 分词与去停用词\n",
    "def chinese_text_preprocess(texts):\n",
    "    with open('../data/hit_stopwords.txt', 'r', encoding='utf-8') as f:\n",
    "        stopwords = [line.rstrip('\\n') for line in f]\n",
    "    processed_texts = []\n",
    "    for text in texts:\n",
    "        words = jieba.lcut(text)\n",
    "        words = [word for word in words if word not in stopwords and len(word) > 1]\n",
    "        processed_texts.append(\" \".join(words))  # 转为空格分隔的字符串\n",
    "    return processed_texts\n",
    "\n",
    "processed_docs = chinese_text_preprocess(documents)\n",
    "\n",
    "# 构建词频矩阵\n",
    "vectorizer = CountVectorizer()\n",
    "X = vectorizer.fit_transform(processed_docs)\n",
    "\n",
    "# 训练LDA模型\n",
    "lda = LatentDirichletAllocation(\n",
    "    n_components=2,      # 主题数\n",
    "    random_state=42,\n",
    "    learning_method=\"online\"\n",
    ")\n",
    "lda.fit(X)\n",
    "\n",
    "# 打印每个主题的关键词\n",
    "feature_names = vectorizer.get_feature_names_out()\n",
    "for topic_idx, topic in enumerate(lda.components_):\n",
    "    top_words = [feature_names[i] for i in topic.argsort()[:-6:-1]]  # 取权重最高的5个词\n",
    "    print(f\"主题 {topic_idx}: {', '.join(top_words)}\")"
   ],
   "id": "3f999af6b6df01e9",
   "outputs": [
    {
     "name": "stdout",
     "output_type": "stream",
     "text": [
      "主题 0: 全球, 带来, 行业, 气候变化, 金融\n",
      "主题 1: 风能, 太阳能, 再生能源, 自然语言, 应用\n"
     ]
    }
   ],
   "execution_count": 5
  },
  {
   "metadata": {},
   "cell_type": "code",
   "outputs": [],
   "execution_count": null,
   "source": "",
   "id": "3275952a47857e2b"
  }
 ],
 "metadata": {
  "kernelspec": {
   "display_name": "Python 3",
   "language": "python",
   "name": "python3"
  },
  "language_info": {
   "codemirror_mode": {
    "name": "ipython",
    "version": 2
   },
   "file_extension": ".py",
   "mimetype": "text/x-python",
   "name": "python",
   "nbconvert_exporter": "python",
   "pygments_lexer": "ipython2",
   "version": "2.7.6"
  }
 },
 "nbformat": 4,
 "nbformat_minor": 5
}
