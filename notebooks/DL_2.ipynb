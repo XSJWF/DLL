{
 "cells": [
  {
   "cell_type": "code",
   "id": "initial_id",
   "metadata": {
    "collapsed": true,
    "ExecuteTime": {
     "end_time": "2025-07-16T08:53:18.426012Z",
     "start_time": "2025-07-16T08:53:15.433713Z"
    }
   },
   "source": [
    "import torch\n",
    "\n",
    "print(torch.__version__)\n",
    "print(torch.version.cuda)\n",
    "print(torch.cuda.is_available())"
   ],
   "outputs": [
    {
     "name": "stdout",
     "output_type": "stream",
     "text": [
      "2.9.0.dev20250714+cu129\n",
      "12.9\n",
      "True\n"
     ]
    }
   ],
   "execution_count": 1
  },
  {
   "metadata": {
    "ExecuteTime": {
     "end_time": "2025-07-16T08:53:26.652104Z",
     "start_time": "2025-07-16T08:53:26.637936Z"
    }
   },
   "cell_type": "code",
   "source": [
    "num_gpus = torch.cuda.device_count()\n",
    "print(\"当前可用的GPU数量：\", num_gpus)\n",
    "device = torch.device(f\"cuda:{0}\")\n",
    "properties = torch.cuda.get_device_properties(device)\n",
    "print(f\"GPU {0} 的详细信息：\")\n",
    "print(\"名称：\", properties.name)\n",
    "print(\"显存大小：\", properties.total_memory)"
   ],
   "id": "3c0b1b3a09daf5cf",
   "outputs": [
    {
     "name": "stdout",
     "output_type": "stream",
     "text": [
      "当前可用的GPU数量： 1\n",
      "GPU 0 的详细信息：\n",
      "名称： NVIDIA GeForce GTX 1650\n",
      "显存大小： 4294639616\n"
     ]
    }
   ],
   "execution_count": 2
  },
  {
   "metadata": {
    "ExecuteTime": {
     "end_time": "2025-07-16T07:08:43.630350Z",
     "start_time": "2025-07-16T07:08:43.621688Z"
    }
   },
   "cell_type": "code",
   "source": [
    "import numpy as np\n",
    "\n",
    "x = np.arange(12)\n",
    "print(x)\n",
    "print(x.shape)\n",
    "print(x.size)\n",
    "print(x.reshape(3, 4))\n",
    "print(np.zeros((2, 3, 4)))\n",
    "print(np.ones((2, 3, 4)))"
   ],
   "id": "fd60923bb52ba65a",
   "outputs": [
    {
     "name": "stdout",
     "output_type": "stream",
     "text": [
      "[ 0  1  2  3  4  5  6  7  8  9 10 11]\n",
      "(12,)\n",
      "12\n",
      "[[ 0  1  2  3]\n",
      " [ 4  5  6  7]\n",
      " [ 8  9 10 11]]\n",
      "[[[0. 0. 0. 0.]\n",
      "  [0. 0. 0. 0.]\n",
      "  [0. 0. 0. 0.]]\n",
      "\n",
      " [[0. 0. 0. 0.]\n",
      "  [0. 0. 0. 0.]\n",
      "  [0. 0. 0. 0.]]]\n",
      "[[[1. 1. 1. 1.]\n",
      "  [1. 1. 1. 1.]\n",
      "  [1. 1. 1. 1.]]\n",
      "\n",
      " [[1. 1. 1. 1.]\n",
      "  [1. 1. 1. 1.]\n",
      "  [1. 1. 1. 1.]]]\n"
     ]
    }
   ],
   "execution_count": 7
  },
  {
   "metadata": {
    "ExecuteTime": {
     "end_time": "2025-06-24T02:16:35.122978Z",
     "start_time": "2025-06-24T02:16:35.095592Z"
    }
   },
   "cell_type": "code",
   "source": "np.random.normal(0, 1, size=(3, 4))",
   "id": "12fd5bd8a8e56775",
   "outputs": [
    {
     "data": {
      "text/plain": [
       "array([[-0.75790575,  1.76229839, -0.6782631 ,  0.37951165],\n",
       "       [-0.88386306,  1.23801494,  0.76018073, -1.62932899],\n",
       "       [ 0.00990644, -0.20507101, -0.3540128 , -1.275353  ]])"
      ]
     },
     "execution_count": 5,
     "metadata": {},
     "output_type": "execute_result"
    }
   ],
   "execution_count": 5
  },
  {
   "metadata": {
    "ExecuteTime": {
     "end_time": "2025-06-24T02:16:35.977531Z",
     "start_time": "2025-06-24T02:16:35.971653Z"
    }
   },
   "cell_type": "code",
   "source": "np.array([[2, 1, 4, 3], [1, 2, 3, 4], [4, 3, 2, 1]])",
   "id": "3ee3fd7bf3ffcb94",
   "outputs": [
    {
     "data": {
      "text/plain": [
       "array([[2, 1, 4, 3],\n",
       "       [1, 2, 3, 4],\n",
       "       [4, 3, 2, 1]])"
      ]
     },
     "execution_count": 6,
     "metadata": {},
     "output_type": "execute_result"
    }
   ],
   "execution_count": 6
  },
  {
   "metadata": {
    "ExecuteTime": {
     "end_time": "2025-06-24T02:16:36.541418Z",
     "start_time": "2025-06-24T02:16:36.535124Z"
    }
   },
   "cell_type": "code",
   "source": [
    "x = np.array([1, 2, 4, 8])\n",
    "y = np.array([2, 2, 2, 2])\n",
    "x + y, x - y, x * y, x / y, x ** y"
   ],
   "id": "b6cfff4abebf0759",
   "outputs": [
    {
     "data": {
      "text/plain": [
       "(array([ 3,  4,  6, 10]),\n",
       " array([-1,  0,  2,  6]),\n",
       " array([ 2,  4,  8, 16]),\n",
       " array([0.5, 1. , 2. , 4. ]),\n",
       " array([ 1,  4, 16, 64]))"
      ]
     },
     "execution_count": 7,
     "metadata": {},
     "output_type": "execute_result"
    }
   ],
   "execution_count": 7
  },
  {
   "metadata": {
    "ExecuteTime": {
     "end_time": "2025-06-24T02:16:37.551291Z",
     "start_time": "2025-06-24T02:16:37.545823Z"
    }
   },
   "cell_type": "code",
   "source": "np.exp(x)",
   "id": "2cf5cb8e459b94b5",
   "outputs": [
    {
     "data": {
      "text/plain": [
       "array([2.71828183e+00, 7.38905610e+00, 5.45981500e+01, 2.98095799e+03])"
      ]
     },
     "execution_count": 8,
     "metadata": {},
     "output_type": "execute_result"
    }
   ],
   "execution_count": 8
  },
  {
   "metadata": {
    "ExecuteTime": {
     "end_time": "2025-06-24T02:16:38.514225Z",
     "start_time": "2025-06-24T02:16:38.507194Z"
    }
   },
   "cell_type": "code",
   "source": [
    "X = np.arange(12).reshape(3, 4)\n",
    "Y = np.array([[2, 1, 4, 3], [1, 2, 3, 4], [4, 3, 2, 1]])\n",
    "np.concatenate([X, Y], axis=0), np.concatenate([X, Y], axis=1)\n"
   ],
   "id": "6e84f3b340cf0292",
   "outputs": [
    {
     "data": {
      "text/plain": [
       "(array([[ 0,  1,  2,  3],\n",
       "        [ 4,  5,  6,  7],\n",
       "        [ 8,  9, 10, 11],\n",
       "        [ 2,  1,  4,  3],\n",
       "        [ 1,  2,  3,  4],\n",
       "        [ 4,  3,  2,  1]]),\n",
       " array([[ 0,  1,  2,  3,  2,  1,  4,  3],\n",
       "        [ 4,  5,  6,  7,  1,  2,  3,  4],\n",
       "        [ 8,  9, 10, 11,  4,  3,  2,  1]]))"
      ]
     },
     "execution_count": 9,
     "metadata": {},
     "output_type": "execute_result"
    }
   ],
   "execution_count": 9
  },
  {
   "metadata": {
    "ExecuteTime": {
     "end_time": "2025-06-24T02:16:39.700167Z",
     "start_time": "2025-06-24T02:16:39.693745Z"
    }
   },
   "cell_type": "code",
   "source": "X == Y",
   "id": "af8b9a5db85b7ba4",
   "outputs": [
    {
     "data": {
      "text/plain": [
       "array([[False,  True, False,  True],\n",
       "       [False, False, False, False],\n",
       "       [False, False, False, False]])"
      ]
     },
     "execution_count": 10,
     "metadata": {},
     "output_type": "execute_result"
    }
   ],
   "execution_count": 10
  },
  {
   "metadata": {
    "ExecuteTime": {
     "end_time": "2025-06-24T02:16:40.263338Z",
     "start_time": "2025-06-24T02:16:40.258314Z"
    }
   },
   "cell_type": "code",
   "source": "X.sum()",
   "id": "a6048d5b6294b23",
   "outputs": [
    {
     "data": {
      "text/plain": [
       "np.int64(66)"
      ]
     },
     "execution_count": 11,
     "metadata": {},
     "output_type": "execute_result"
    }
   ],
   "execution_count": 11
  },
  {
   "metadata": {
    "ExecuteTime": {
     "end_time": "2025-06-24T02:16:41.056983Z",
     "start_time": "2025-06-24T02:16:41.050985Z"
    }
   },
   "cell_type": "code",
   "source": [
    "a = np.arange(3).reshape(3, 1)\n",
    "b = np.arange(2).reshape(1, 2)\n",
    "a, b"
   ],
   "id": "a182353a460f1f1",
   "outputs": [
    {
     "data": {
      "text/plain": [
       "(array([[0],\n",
       "        [1],\n",
       "        [2]]),\n",
       " array([[0, 1]]))"
      ]
     },
     "execution_count": 12,
     "metadata": {},
     "output_type": "execute_result"
    }
   ],
   "execution_count": 12
  },
  {
   "metadata": {
    "ExecuteTime": {
     "end_time": "2025-06-24T02:16:41.794849Z",
     "start_time": "2025-06-24T02:16:41.789841Z"
    }
   },
   "cell_type": "code",
   "source": "a + b",
   "id": "ec128f23c253db36",
   "outputs": [
    {
     "data": {
      "text/plain": [
       "array([[0, 1],\n",
       "       [1, 2],\n",
       "       [2, 3]])"
      ]
     },
     "execution_count": 13,
     "metadata": {},
     "output_type": "execute_result"
    }
   ],
   "execution_count": 13
  },
  {
   "metadata": {
    "ExecuteTime": {
     "end_time": "2025-06-24T02:16:42.777589Z",
     "start_time": "2025-06-24T02:16:42.772578Z"
    }
   },
   "cell_type": "code",
   "source": "X[-1], X[1:3]",
   "id": "e356b540b35a3552",
   "outputs": [
    {
     "data": {
      "text/plain": [
       "(array([ 8,  9, 10, 11]),\n",
       " array([[ 4,  5,  6,  7],\n",
       "        [ 8,  9, 10, 11]]))"
      ]
     },
     "execution_count": 14,
     "metadata": {},
     "output_type": "execute_result"
    }
   ],
   "execution_count": 14
  },
  {
   "metadata": {
    "ExecuteTime": {
     "end_time": "2025-06-24T02:16:43.420721Z",
     "start_time": "2025-06-24T02:16:43.412779Z"
    }
   },
   "cell_type": "code",
   "source": [
    "before = id(Y)\n",
    "Y = X + Y\n",
    "id(Y) == before"
   ],
   "id": "4286d5595f65b7c4",
   "outputs": [
    {
     "data": {
      "text/plain": [
       "False"
      ]
     },
     "execution_count": 15,
     "metadata": {},
     "output_type": "execute_result"
    }
   ],
   "execution_count": 15
  },
  {
   "metadata": {
    "ExecuteTime": {
     "end_time": "2025-06-24T02:16:43.995224Z",
     "start_time": "2025-06-24T02:16:43.991022Z"
    }
   },
   "cell_type": "code",
   "source": [
    "Z = np.zeros_like(Y)\n",
    "print('id(Z):', id(Z))\n",
    "Z[:] = X + Y\n",
    "print('id(Z):', id(Z))"
   ],
   "id": "becc433d07afeb9",
   "outputs": [
    {
     "name": "stdout",
     "output_type": "stream",
     "text": [
      "id(Z): 2476097040144\n",
      "id(Z): 2476097040144\n"
     ]
    }
   ],
   "execution_count": 16
  },
  {
   "metadata": {
    "ExecuteTime": {
     "end_time": "2025-06-24T02:16:44.576384Z",
     "start_time": "2025-06-24T02:16:44.569365Z"
    }
   },
   "cell_type": "code",
   "source": [
    "type(X)\n",
    "B = np.array(X)\n",
    "type(X), type(B) \n",
    "\"\"\"在进行深度学习任务的时候，一定要注意深度学习框架定义的张量和NumPy张量之间可能存在的转换问题\"\"\""
   ],
   "id": "f1829a02e3d25985",
   "outputs": [
    {
     "data": {
      "text/plain": [
       "'在进行深度学习任务的时候，一定要注意深度学习框架定义的张量和NumPy张量之间可能存在的转换问题'"
      ]
     },
     "execution_count": 17,
     "metadata": {},
     "output_type": "execute_result"
    }
   ],
   "execution_count": 17
  },
  {
   "metadata": {
    "ExecuteTime": {
     "end_time": "2025-06-24T02:16:45.349827Z",
     "start_time": "2025-06-24T02:16:45.342096Z"
    }
   },
   "cell_type": "code",
   "source": [
    "\"\"\"深度学习存储和操作数据的主要接口是张量（n维数组）。它提供了各种功能，包括基本数学运算、广\n",
    "播、索引、切片、内存节省和转换其他Python对象。\"\"\"\n",
    "a = np.array([3.5])\n",
    "a, a.item(), float(a), int(a)"
   ],
   "id": "98322b501ed697c7",
   "outputs": [
    {
     "name": "stderr",
     "output_type": "stream",
     "text": [
      "C:\\Users\\DaiYongle\\AppData\\Local\\Temp\\ipykernel_16448\\2956111559.py:4: DeprecationWarning: Conversion of an array with ndim > 0 to a scalar is deprecated, and will error in future. Ensure you extract a single element from your array before performing this operation. (Deprecated NumPy 1.25.)\n",
      "  a, a.item(), float(a), int(a)\n"
     ]
    },
    {
     "data": {
      "text/plain": [
       "(array([3.5]), 3.5, 3.5, 3)"
      ]
     },
     "execution_count": 18,
     "metadata": {},
     "output_type": "execute_result"
    }
   ],
   "execution_count": 18
  },
  {
   "metadata": {
    "ExecuteTime": {
     "end_time": "2025-06-24T02:16:46.060727Z",
     "start_time": "2025-06-24T02:16:46.053787Z"
    }
   },
   "cell_type": "code",
   "source": [
    "import os\n",
    "\n",
    "os.makedirs(os.path.join('..', 'data'), exist_ok=True)\n",
    "data_file = os.path.join('..', 'data', 'house_tiny.csv')\n",
    "with open(data_file, 'w') as f:\n",
    "    f.write('NumRooms,Alley,Price\\n')\n",
    "    f.write('NA,Pave,127500\\n') # 每行表示一个数据样本\n",
    "    f.write('2,NA,106000\\n')\n",
    "    f.write('4,NA,178100\\n')\n",
    "    f.write('NA,NA,140000\\n')"
   ],
   "id": "e820846806861a2a",
   "outputs": [],
   "execution_count": 19
  },
  {
   "metadata": {
    "ExecuteTime": {
     "end_time": "2025-06-24T02:16:46.749440Z",
     "start_time": "2025-06-24T02:16:46.729157Z"
    }
   },
   "cell_type": "code",
   "source": [
    "import pandas as pd\n",
    "\n",
    "data = pd.read_csv(data_file)\n",
    "print(data)"
   ],
   "id": "c2e8369fe9f058ca",
   "outputs": [
    {
     "name": "stdout",
     "output_type": "stream",
     "text": [
      "   NumRooms Alley   Price\n",
      "0       NaN  Pave  127500\n",
      "1       2.0   NaN  106000\n",
      "2       4.0   NaN  178100\n",
      "3       NaN   NaN  140000\n"
     ]
    }
   ],
   "execution_count": 20
  },
  {
   "metadata": {
    "ExecuteTime": {
     "end_time": "2025-06-24T02:16:47.537855Z",
     "start_time": "2025-06-24T02:16:47.529271Z"
    }
   },
   "cell_type": "code",
   "source": [
    "inputs, outputs = data.iloc[:, 0:1], data.iloc[:, 2]\n",
    "inputs = inputs.fillna(inputs.mean())\n",
    "\"\"\"方法mean()是列取均值的意思，\"\"\"\n",
    "print(inputs)"
   ],
   "id": "e2aaaecc5551ccff",
   "outputs": [
    {
     "name": "stdout",
     "output_type": "stream",
     "text": [
      "   NumRooms\n",
      "0       3.0\n",
      "1       2.0\n",
      "2       4.0\n",
      "3       3.0\n"
     ]
    }
   ],
   "execution_count": 21
  },
  {
   "metadata": {
    "ExecuteTime": {
     "end_time": "2025-06-24T02:17:25.131656Z",
     "start_time": "2025-06-24T02:17:25.038442Z"
    }
   },
   "cell_type": "code",
   "source": [
    "import numpy as np\n",
    "x = np.array(3.0)\n",
    "y = np.array(2.0)\n",
    "\"\"\"numpy的一些整型、浮点型的数据类型和python原生的区别在于更适合批量计算\"\"\"\n",
    "x + y, x * y, x / y, x ** y"
   ],
   "id": "d2d3f1d9be62655a",
   "outputs": [
    {
     "data": {
      "text/plain": [
       "(np.float64(5.0), np.float64(6.0), np.float64(1.5), np.float64(9.0))"
      ]
     },
     "execution_count": 4,
     "metadata": {},
     "output_type": "execute_result"
    }
   ],
   "execution_count": 4
  },
  {
   "metadata": {
    "ExecuteTime": {
     "end_time": "2025-06-24T02:17:25.322272Z",
     "start_time": "2025-06-24T02:17:25.316956Z"
    }
   },
   "cell_type": "code",
   "source": [
    "x = np.arange(4)\n",
    "x"
   ],
   "id": "df0ebda8e612a638",
   "outputs": [
    {
     "data": {
      "text/plain": [
       "array([0, 1, 2, 3])"
      ]
     },
     "execution_count": 5,
     "metadata": {},
     "output_type": "execute_result"
    }
   ],
   "execution_count": 5
  },
  {
   "metadata": {
    "ExecuteTime": {
     "end_time": "2025-06-24T02:17:25.518815Z",
     "start_time": "2025-06-24T02:17:25.512310Z"
    }
   },
   "cell_type": "code",
   "source": "x[3]",
   "id": "2828e47600a98fd7",
   "outputs": [
    {
     "data": {
      "text/plain": [
       "np.int64(3)"
      ]
     },
     "execution_count": 6,
     "metadata": {},
     "output_type": "execute_result"
    }
   ],
   "execution_count": 6
  },
  {
   "metadata": {
    "ExecuteTime": {
     "end_time": "2025-06-24T02:17:25.715027Z",
     "start_time": "2025-06-24T02:17:25.709152Z"
    }
   },
   "cell_type": "code",
   "source": "len(x)",
   "id": "bedb89bfca832a9a",
   "outputs": [
    {
     "data": {
      "text/plain": [
       "4"
      ]
     },
     "execution_count": 7,
     "metadata": {},
     "output_type": "execute_result"
    }
   ],
   "execution_count": 7
  },
  {
   "metadata": {
    "ExecuteTime": {
     "end_time": "2025-06-24T02:17:25.905306Z",
     "start_time": "2025-06-24T02:17:25.900931Z"
    }
   },
   "cell_type": "code",
   "source": [
    "\"\"\"用张量表示一个向量（一个轴）时，shape访问向量的长度得到的即是张量沿该轴的长度（维数）\"\"\"\n",
    "x.shape"
   ],
   "id": "e0bad0b3b410e903",
   "outputs": [
    {
     "data": {
      "text/plain": [
       "(4,)"
      ]
     },
     "execution_count": 8,
     "metadata": {},
     "output_type": "execute_result"
    }
   ],
   "execution_count": 8
  },
  {
   "metadata": {
    "ExecuteTime": {
     "end_time": "2025-06-24T02:17:26.077601Z",
     "start_time": "2025-06-24T02:17:26.071576Z"
    }
   },
   "cell_type": "code",
   "source": [
    "A = np.arange(20).reshape(5, 4)\n",
    "A"
   ],
   "id": "bd1ed3d4fd9c0db7",
   "outputs": [
    {
     "data": {
      "text/plain": [
       "array([[ 0,  1,  2,  3],\n",
       "       [ 4,  5,  6,  7],\n",
       "       [ 8,  9, 10, 11],\n",
       "       [12, 13, 14, 15],\n",
       "       [16, 17, 18, 19]])"
      ]
     },
     "execution_count": 9,
     "metadata": {},
     "output_type": "execute_result"
    }
   ],
   "execution_count": 9
  },
  {
   "metadata": {
    "ExecuteTime": {
     "end_time": "2025-06-24T02:17:26.252307Z",
     "start_time": "2025-06-24T02:17:26.246705Z"
    }
   },
   "cell_type": "code",
   "source": [
    "\"\"\"矩阵的转置\"\"\"\n",
    "A.T"
   ],
   "id": "7ad9c3023313b9d6",
   "outputs": [
    {
     "data": {
      "text/plain": [
       "array([[ 0,  4,  8, 12, 16],\n",
       "       [ 1,  5,  9, 13, 17],\n",
       "       [ 2,  6, 10, 14, 18],\n",
       "       [ 3,  7, 11, 15, 19]])"
      ]
     },
     "execution_count": 10,
     "metadata": {},
     "output_type": "execute_result"
    }
   ],
   "execution_count": 10
  },
  {
   "metadata": {
    "ExecuteTime": {
     "end_time": "2025-06-24T02:17:26.449549Z",
     "start_time": "2025-06-24T02:17:26.444998Z"
    }
   },
   "cell_type": "code",
   "source": [
    "B = np.array([[1, 2, 3], [2, 0, 4], [3, 4, 5]])\n",
    "B"
   ],
   "id": "214ebd9e765e3010",
   "outputs": [
    {
     "data": {
      "text/plain": [
       "array([[1, 2, 3],\n",
       "       [2, 0, 4],\n",
       "       [3, 4, 5]])"
      ]
     },
     "execution_count": 11,
     "metadata": {},
     "output_type": "execute_result"
    }
   ],
   "execution_count": 11
  },
  {
   "metadata": {
    "ExecuteTime": {
     "end_time": "2025-06-24T02:17:26.650609Z",
     "start_time": "2025-06-24T02:17:26.644797Z"
    }
   },
   "cell_type": "code",
   "source": "B == B.T",
   "id": "80af6681b46eaac7",
   "outputs": [
    {
     "data": {
      "text/plain": [
       "array([[ True,  True,  True],\n",
       "       [ True,  True,  True],\n",
       "       [ True,  True,  True]])"
      ]
     },
     "execution_count": 12,
     "metadata": {},
     "output_type": "execute_result"
    }
   ],
   "execution_count": 12
  },
  {
   "metadata": {
    "ExecuteTime": {
     "end_time": "2025-06-24T02:17:26.861044Z",
     "start_time": "2025-06-24T02:17:26.855109Z"
    }
   },
   "cell_type": "code",
   "source": [
    "\"\"\"向量是标量的升级，矩阵是向量的升级，张量也是矩阵的升级\"\"\"\n",
    "X = np.arange(24).reshape(2, 3, 4)\n",
    "X"
   ],
   "id": "9721dbf20c1182b9",
   "outputs": [
    {
     "data": {
      "text/plain": [
       "array([[[ 0,  1,  2,  3],\n",
       "        [ 4,  5,  6,  7],\n",
       "        [ 8,  9, 10, 11]],\n",
       "\n",
       "       [[12, 13, 14, 15],\n",
       "        [16, 17, 18, 19],\n",
       "        [20, 21, 22, 23]]])"
      ]
     },
     "execution_count": 13,
     "metadata": {},
     "output_type": "execute_result"
    }
   ],
   "execution_count": 13
  },
  {
   "metadata": {
    "ExecuteTime": {
     "end_time": "2025-06-24T02:17:27.031597Z",
     "start_time": "2025-06-24T02:17:27.025948Z"
    }
   },
   "cell_type": "code",
   "source": [
    "A = np.arange(20).reshape(5, 4)\n",
    "B = A.copy()\n",
    "A, A + B"
   ],
   "id": "968547735dd8ac19",
   "outputs": [
    {
     "data": {
      "text/plain": [
       "(array([[ 0,  1,  2,  3],\n",
       "        [ 4,  5,  6,  7],\n",
       "        [ 8,  9, 10, 11],\n",
       "        [12, 13, 14, 15],\n",
       "        [16, 17, 18, 19]]),\n",
       " array([[ 0,  2,  4,  6],\n",
       "        [ 8, 10, 12, 14],\n",
       "        [16, 18, 20, 22],\n",
       "        [24, 26, 28, 30],\n",
       "        [32, 34, 36, 38]]))"
      ]
     },
     "execution_count": 14,
     "metadata": {},
     "output_type": "execute_result"
    }
   ],
   "execution_count": 14
  },
  {
   "metadata": {
    "ExecuteTime": {
     "end_time": "2025-06-24T02:17:27.230707Z",
     "start_time": "2025-06-24T02:17:27.225677Z"
    }
   },
   "cell_type": "code",
   "source": "A * B",
   "id": "c0ce11643f5a1342",
   "outputs": [
    {
     "data": {
      "text/plain": [
       "array([[  0,   1,   4,   9],\n",
       "       [ 16,  25,  36,  49],\n",
       "       [ 64,  81, 100, 121],\n",
       "       [144, 169, 196, 225],\n",
       "       [256, 289, 324, 361]])"
      ]
     },
     "execution_count": 15,
     "metadata": {},
     "output_type": "execute_result"
    }
   ],
   "execution_count": 15
  },
  {
   "metadata": {
    "ExecuteTime": {
     "end_time": "2025-06-24T02:17:27.435069Z",
     "start_time": "2025-06-24T02:17:27.428437Z"
    }
   },
   "cell_type": "code",
   "source": [
    "a = 2\n",
    "X = np.arange(24).reshape(2, 3, 4)\n",
    "a + X, (a * X).shape"
   ],
   "id": "954dd3b8107e4601",
   "outputs": [
    {
     "data": {
      "text/plain": [
       "(array([[[ 2,  3,  4,  5],\n",
       "         [ 6,  7,  8,  9],\n",
       "         [10, 11, 12, 13]],\n",
       " \n",
       "        [[14, 15, 16, 17],\n",
       "         [18, 19, 20, 21],\n",
       "         [22, 23, 24, 25]]]),\n",
       " (2, 3, 4))"
      ]
     },
     "execution_count": 16,
     "metadata": {},
     "output_type": "execute_result"
    }
   ],
   "execution_count": 16
  },
  {
   "metadata": {
    "ExecuteTime": {
     "end_time": "2025-06-24T02:17:27.649891Z",
     "start_time": "2025-06-24T02:17:27.644499Z"
    }
   },
   "cell_type": "code",
   "source": [
    "x = np.arange(4)\n",
    "x, x.sum()"
   ],
   "id": "b06efb33b774a036",
   "outputs": [
    {
     "data": {
      "text/plain": [
       "(array([0, 1, 2, 3]), np.int64(6))"
      ]
     },
     "execution_count": 17,
     "metadata": {},
     "output_type": "execute_result"
    }
   ],
   "execution_count": 17
  },
  {
   "metadata": {
    "ExecuteTime": {
     "end_time": "2025-06-24T02:17:27.848258Z",
     "start_time": "2025-06-24T02:17:27.842752Z"
    }
   },
   "cell_type": "code",
   "source": "A.shape, A.sum()",
   "id": "a5adb961c41afe3c",
   "outputs": [
    {
     "data": {
      "text/plain": [
       "((5, 4), np.int64(190))"
      ]
     },
     "execution_count": 18,
     "metadata": {},
     "output_type": "execute_result"
    }
   ],
   "execution_count": 18
  },
  {
   "metadata": {
    "ExecuteTime": {
     "end_time": "2025-06-24T02:17:28.051264Z",
     "start_time": "2025-06-24T02:17:28.045068Z"
    }
   },
   "cell_type": "code",
   "source": [
    "A_sum_axis0 = A.sum(axis=0)\n",
    "\"\"\"axis就是选择沿着张量的哪一条轴进行求和的意思（有多少个轴，简单来说就可以通过观察多少层嵌套来确认）\"\"\"\n",
    "A_sum_axis0, A_sum_axis0.shape"
   ],
   "id": "bdcc58164198d92a",
   "outputs": [
    {
     "data": {
      "text/plain": [
       "(array([40, 45, 50, 55]), (4,))"
      ]
     },
     "execution_count": 19,
     "metadata": {},
     "output_type": "execute_result"
    }
   ],
   "execution_count": 19
  },
  {
   "metadata": {
    "ExecuteTime": {
     "end_time": "2025-06-24T02:17:28.260286Z",
     "start_time": "2025-06-24T02:17:28.254762Z"
    }
   },
   "cell_type": "code",
   "source": [
    "A_sum_axis1 = A.sum(axis=1)\n",
    "A_sum_axis1, A_sum_axis1.shape"
   ],
   "id": "9efc04f09caba6cf",
   "outputs": [
    {
     "data": {
      "text/plain": [
       "(array([ 6, 22, 38, 54, 70]), (5,))"
      ]
     },
     "execution_count": 20,
     "metadata": {},
     "output_type": "execute_result"
    }
   ],
   "execution_count": 20
  },
  {
   "metadata": {
    "ExecuteTime": {
     "end_time": "2025-06-24T02:17:28.604629Z",
     "start_time": "2025-06-24T02:17:28.599128Z"
    }
   },
   "cell_type": "code",
   "source": "A.sum(axis=(0, 1))",
   "id": "a282d0a1e2921710",
   "outputs": [
    {
     "data": {
      "text/plain": [
       "np.int64(190)"
      ]
     },
     "execution_count": 21,
     "metadata": {},
     "output_type": "execute_result"
    }
   ],
   "execution_count": 21
  },
  {
   "metadata": {
    "ExecuteTime": {
     "end_time": "2025-06-24T02:17:28.945102Z",
     "start_time": "2025-06-24T02:17:28.940095Z"
    }
   },
   "cell_type": "code",
   "source": "A.mean(), A.sum() / A.size",
   "id": "c62adabdc25bbb16",
   "outputs": [
    {
     "data": {
      "text/plain": [
       "(np.float64(9.5), np.float64(9.5))"
      ]
     },
     "execution_count": 22,
     "metadata": {},
     "output_type": "execute_result"
    }
   ],
   "execution_count": 22
  },
  {
   "metadata": {
    "ExecuteTime": {
     "end_time": "2025-06-24T02:17:29.204077Z",
     "start_time": "2025-06-24T02:17:29.197104Z"
    }
   },
   "cell_type": "code",
   "source": "A, A.shape, A.mean(axis=0), A.sum(axis=0) / A.shape[0]",
   "id": "c98a035642f4172c",
   "outputs": [
    {
     "data": {
      "text/plain": [
       "(array([[ 0,  1,  2,  3],\n",
       "        [ 4,  5,  6,  7],\n",
       "        [ 8,  9, 10, 11],\n",
       "        [12, 13, 14, 15],\n",
       "        [16, 17, 18, 19]]),\n",
       " (5, 4),\n",
       " array([ 8.,  9., 10., 11.]),\n",
       " array([ 8.,  9., 10., 11.]))"
      ]
     },
     "execution_count": 23,
     "metadata": {},
     "output_type": "execute_result"
    }
   ],
   "execution_count": 23
  },
  {
   "metadata": {
    "ExecuteTime": {
     "end_time": "2025-06-24T02:17:29.803265Z",
     "start_time": "2025-06-24T02:17:29.796032Z"
    }
   },
   "cell_type": "code",
   "source": [
    "sum_A = A.sum(axis=1, keepdims=True)\n",
    "\"\"\"keepdims表示是否保持轴数不变\"\"\"\n",
    "sum_A"
   ],
   "id": "bf1db65973530324",
   "outputs": [
    {
     "data": {
      "text/plain": [
       "array([[ 6],\n",
       "       [22],\n",
       "       [38],\n",
       "       [54],\n",
       "       [70]])"
      ]
     },
     "execution_count": 24,
     "metadata": {},
     "output_type": "execute_result"
    }
   ],
   "execution_count": 24
  },
  {
   "metadata": {
    "ExecuteTime": {
     "end_time": "2025-06-24T02:17:30.074124Z",
     "start_time": "2025-06-24T02:17:30.069674Z"
    }
   },
   "cell_type": "code",
   "source": [
    "\"\"\"按行计算\"\"\"\n",
    "A.cumsum(axis=0)"
   ],
   "id": "33113a2c2dd8aebb",
   "outputs": [
    {
     "data": {
      "text/plain": [
       "array([[ 0,  1,  2,  3],\n",
       "       [ 4,  6,  8, 10],\n",
       "       [12, 15, 18, 21],\n",
       "       [24, 28, 32, 36],\n",
       "       [40, 45, 50, 55]])"
      ]
     },
     "execution_count": 25,
     "metadata": {},
     "output_type": "execute_result"
    }
   ],
   "execution_count": 25
  },
  {
   "metadata": {
    "ExecuteTime": {
     "end_time": "2025-06-24T02:17:30.685267Z",
     "start_time": "2025-06-24T02:17:30.679233Z"
    }
   },
   "cell_type": "code",
   "source": "A / sum_A",
   "id": "292871e24aa6a382",
   "outputs": [
    {
     "data": {
      "text/plain": [
       "array([[0.        , 0.16666667, 0.33333333, 0.5       ],\n",
       "       [0.18181818, 0.22727273, 0.27272727, 0.31818182],\n",
       "       [0.21052632, 0.23684211, 0.26315789, 0.28947368],\n",
       "       [0.22222222, 0.24074074, 0.25925926, 0.27777778],\n",
       "       [0.22857143, 0.24285714, 0.25714286, 0.27142857]])"
      ]
     },
     "execution_count": 26,
     "metadata": {},
     "output_type": "execute_result"
    }
   ],
   "execution_count": 26
  },
  {
   "metadata": {
    "ExecuteTime": {
     "end_time": "2025-06-24T02:17:31.228366Z",
     "start_time": "2025-06-24T02:17:31.221369Z"
    }
   },
   "cell_type": "code",
   "source": [
    "y = np.ones(4)\n",
    "x, y, np.dot(x, y)\n",
    "\"\"\"和数学中一样，向量的乘积（点乘）是对应相乘再相加\"\"\""
   ],
   "id": "661865d0bd6e4fcf",
   "outputs": [
    {
     "data": {
      "text/plain": [
       "'和数学中一样，向量的乘积（点乘）是对应相乘再相加'"
      ]
     },
     "execution_count": 27,
     "metadata": {},
     "output_type": "execute_result"
    }
   ],
   "execution_count": 27
  },
  {
   "metadata": {
    "ExecuteTime": {
     "end_time": "2025-06-24T02:17:31.905702Z",
     "start_time": "2025-06-24T02:17:31.900102Z"
    }
   },
   "cell_type": "code",
   "source": "np.sum(x * y)",
   "id": "c0b90dd3b8291d98",
   "outputs": [
    {
     "data": {
      "text/plain": [
       "np.float64(6.0)"
      ]
     },
     "execution_count": 28,
     "metadata": {},
     "output_type": "execute_result"
    }
   ],
   "execution_count": 28
  },
  {
   "metadata": {
    "ExecuteTime": {
     "end_time": "2025-06-24T02:17:32.354462Z",
     "start_time": "2025-06-24T02:17:32.349237Z"
    }
   },
   "cell_type": "code",
   "source": [
    "\"\"\"矩阵-向量积的原理和线性代数矩阵的乘法也是一个道理，要求也是一样\"\"\"\n",
    "A.shape, x.shape, np.dot(A, x)"
   ],
   "id": "98512be256b1f9bc",
   "outputs": [
    {
     "data": {
      "text/plain": [
       "((5, 4), (4,), array([ 14,  38,  62,  86, 110]))"
      ]
     },
     "execution_count": 29,
     "metadata": {},
     "output_type": "execute_result"
    }
   ],
   "execution_count": 29
  },
  {
   "metadata": {
    "ExecuteTime": {
     "end_time": "2025-06-24T02:17:33.388173Z",
     "start_time": "2025-06-24T02:17:33.335615Z"
    }
   },
   "cell_type": "code",
   "source": [
    "\"\"\"矩阵-矩阵乘法也和线性代数的说法一致\"\"\"\n",
    "B = np.ones(shape=(4, 3))\n",
    "np.dot(A, B)"
   ],
   "id": "8e9c4bd835959498",
   "outputs": [
    {
     "data": {
      "text/plain": [
       "array([[ 6.,  6.,  6.],\n",
       "       [22., 22., 22.],\n",
       "       [38., 38., 38.],\n",
       "       [54., 54., 54.],\n",
       "       [70., 70., 70.]])"
      ]
     },
     "execution_count": 30,
     "metadata": {},
     "output_type": "execute_result"
    }
   ],
   "execution_count": 30
  },
  {
   "metadata": {
    "ExecuteTime": {
     "end_time": "2025-06-24T02:17:33.979984Z",
     "start_time": "2025-06-24T02:17:33.974987Z"
    }
   },
   "cell_type": "code",
   "source": [
    "u = np.array([3, -4])\n",
    "\"\"\"L2范数（更常见）的意思就是数组内部的元素的平方和开根号\"\"\"\n",
    "u, np.linalg.norm(u)"
   ],
   "id": "da2546b8ad7d31e6",
   "outputs": [
    {
     "data": {
      "text/plain": [
       "(array([ 3, -4]), np.float64(5.0))"
      ]
     },
     "execution_count": 31,
     "metadata": {},
     "output_type": "execute_result"
    }
   ],
   "execution_count": 31
  },
  {
   "metadata": {
    "ExecuteTime": {
     "end_time": "2025-06-24T02:17:34.482182Z",
     "start_time": "2025-06-24T02:17:34.476983Z"
    }
   },
   "cell_type": "code",
   "source": [
    "\"\"\"L1范数（不太常见）的意思就是内部元素绝对值相加\"\"\"\n",
    "np.abs(u).sum()"
   ],
   "id": "50eadc4f439e2484",
   "outputs": [
    {
     "data": {
      "text/plain": [
       "np.int64(7)"
      ]
     },
     "execution_count": 32,
     "metadata": {},
     "output_type": "execute_result"
    }
   ],
   "execution_count": 32
  },
  {
   "metadata": {
    "ExecuteTime": {
     "end_time": "2025-06-24T02:17:35.056562Z",
     "start_time": "2025-06-24T02:17:35.051561Z"
    }
   },
   "cell_type": "code",
   "source": [
    "\"\"\"Frobenius范数满足向量范数的所有性质，它就像是矩阵形向量的L2范数\"\"\"\n",
    "np.linalg.norm(np.ones((4, 9)))"
   ],
   "id": "36095bdd1dcb8275",
   "outputs": [
    {
     "data": {
      "text/plain": [
       "np.float64(6.0)"
      ]
     },
     "execution_count": 33,
     "metadata": {},
     "output_type": "execute_result"
    }
   ],
   "execution_count": 33
  },
  {
   "metadata": {
    "ExecuteTime": {
     "end_time": "2025-06-24T02:37:11.961338Z",
     "start_time": "2025-06-24T02:37:11.954583Z"
    }
   },
   "cell_type": "code",
   "source": [
    "%matplotlib inline\n",
    "from matplotlib import pyplot as plt\n",
    "from matplotlib_inline import backend_inline\n",
    "def f(x):\n",
    "    return 3 * x ** 2 - 4 * x\n",
    "\n",
    "def numerical_lim(f, x, h):\n",
    "    return (f(x + h) - f(x)) / h\n",
    "\n",
    "h = 0.1\n",
    "for i in range(5):\n",
    "    print(f'h={h:.5f}, numerical limit={numerical_lim(f, 1, h):.5f}')\n",
    "    h *= 0.1\n"
   ],
   "id": "10c2c18967e94451",
   "outputs": [
    {
     "name": "stdout",
     "output_type": "stream",
     "text": [
      "h=0.10000, numerical limit=2.30000\n",
      "h=0.01000, numerical limit=2.03000\n",
      "h=0.00100, numerical limit=2.00300\n",
      "h=0.00010, numerical limit=2.00030\n",
      "h=0.00001, numerical limit=2.00003\n"
     ]
    }
   ],
   "execution_count": 39
  },
  {
   "metadata": {
    "ExecuteTime": {
     "end_time": "2025-06-24T02:37:13.103980Z",
     "start_time": "2025-06-24T02:37:13.095836Z"
    }
   },
   "cell_type": "code",
   "source": [
    "\"\"\"使用svg格式在Jupyter中显示绘图\"\"\"\n",
    "def use_svg_display(): \n",
    "    backend_inline.set_matplotlib_formats('svg')\n",
    "\n",
    "\"\"\"设置matplotlib的图表大小\"\"\"\n",
    "def set_figsize(figsize=(3.5, 2.5)):\n",
    "    use_svg_display()\n",
    "    plt.rcParams['figure.figsize'] = figsize\n",
    "\n",
    "\"\"\"设置matplotlib的轴\"\"\"\n",
    "def set_axes(axes, xlabel, ylabel, xlim, ylim, xscale, yscale, legend):\n",
    "    axes.set_xlabel(xlabel)\n",
    "    axes.set_ylabel(ylabel)\n",
    "    axes.set_xscale(xscale)\n",
    "    axes.set_yscale(yscale)\n",
    "    axes.set_xlim(xlim)\n",
    "    axes.set_ylim(ylim)\n",
    "    if legend:\n",
    "        axes.legend(legend)\n",
    "    axes.grid()\n",
    "\n",
    "\"\"\"绘制数据点\"\"\"\n",
    "def plot(X, Y=None, xlabel=None, ylabel=None, legend=None, xlim=None, ylim=None, xscale='linear', yscale='linear', fmts=('-', 'm--', 'g-.', 'r:'), figsize=(3.5, 2.5), axes=None):\n",
    "    if legend is None:\n",
    "        legend = []\n",
    "    set_figsize(figsize)\n",
    "    axes = axes if axes else plt.gca()\n",
    "    # 如果X有一个轴，输出True\n",
    "    def has_one_axis(X):\n",
    "        return (hasattr(X, \"ndim\") and X.ndim == 1 or isinstance(X, list)\n",
    "    and not hasattr(X[0], \"__len__\"))\n",
    "    if has_one_axis(X):\n",
    "        X = [X]\n",
    "    if Y is None:\n",
    "        X, Y = [[]] * len(X), X\n",
    "    elif has_one_axis(Y):\n",
    "        Y = [Y]\n",
    "    if len(X) != len(Y):\n",
    "        X = X * len(Y)\n",
    "    axes.cla()\n",
    "    for x, y, fmt in zip(X, Y, fmts):\n",
    "        if len(x):\n",
    "            axes.plot(x, y, fmt)\n",
    "        else:\n",
    "            axes.plot(y, fmt)\n",
    "    set_axes(axes, xlabel, ylabel, xlim, ylim, xscale, yscale, legend)\n"
   ],
   "id": "6073dff7d9e46637",
   "outputs": [],
   "execution_count": 40
  },
  {
   "metadata": {
    "ExecuteTime": {
     "end_time": "2025-06-24T02:37:14.821912Z",
     "start_time": "2025-06-24T02:37:14.768890Z"
    }
   },
   "cell_type": "code",
   "source": [
    "x = np.arange(0, 3, 0.1)\n",
    "print(x)\n",
    "plot(x, [f(x), 2 * x - 3], 'x', 'f(x)', legend=['f(x)', 'Tangent line (x=1)'])"
   ],
   "id": "183e700977b4bc8d",
   "outputs": [
    {
     "name": "stdout",
     "output_type": "stream",
     "text": [
      "[0.  0.1 0.2 0.3 0.4 0.5 0.6 0.7 0.8 0.9 1.  1.1 1.2 1.3 1.4 1.5 1.6 1.7\n",
      " 1.8 1.9 2.  2.1 2.2 2.3 2.4 2.5 2.6 2.7 2.8 2.9]\n"
     ]
    }
   ],
   "execution_count": 41
  }
 ],
 "metadata": {
  "kernelspec": {
   "display_name": "Python 3",
   "language": "python",
   "name": "python3"
  },
  "language_info": {
   "codemirror_mode": {
    "name": "ipython",
    "version": 2
   },
   "file_extension": ".py",
   "mimetype": "text/x-python",
   "name": "python",
   "nbconvert_exporter": "python",
   "pygments_lexer": "ipython2",
   "version": "2.7.6"
  }
 },
 "nbformat": 4,
 "nbformat_minor": 5
}
